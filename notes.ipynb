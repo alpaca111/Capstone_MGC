{
 "cells": [
  {
   "cell_type": "code",
   "execution_count": 1,
   "metadata": {},
   "outputs": [],
   "source": [
    "import os\n",
    "import pandas as pd\n",
    "import matplotlib.pyplot as plt\n",
    "import seaborn as sns\n",
    "import librosa\n",
    "import librosa.display   #for loading and visualizing audio files\n",
    "import IPython.display as ipd   #to play audio\n",
    "\n",
    "plt.style.use('ggplot')\n",
    "\n",
    "%config InlineBackend.figure_format = 'retina'\n",
    "%matplotlib inline\n",
    "import time \n",
    "import pickle"
   ]
  },
  {
   "cell_type": "markdown",
   "metadata": {},
   "source": [
    "# Notes"
   ]
  },
  {
   "cell_type": "markdown",
   "metadata": {},
   "source": [
    "Start writing up presentation as you go after modelling stage"
   ]
  },
  {
   "cell_type": "markdown",
   "metadata": {},
   "source": [
    "## 3 methods:\n",
    "\n",
    "**A.** PCA each feature (spectrogram) ---> save each PCA'd feature into own dataframe ---> model on each one individually --> majority vote predictions\n",
    "\n",
    "**B.** From PCA'd dataframe combine into one big and model entirely ---> predictions\n",
    "\n",
    "**C.** Do descriptive stats and model on this ---> predictions\n",
    "\n",
    "\n",
    "- simple model on various features count predictions and choose from majority vote\n",
    "\n",
    "(chroma, tempo, spectogram, mse)\n",
    "- MAKE SURE each AUDIO file is same sample rate!\n",
    "\n",
    "\n",
    "- turn into black & white images, pca"
   ]
  },
  {
   "cell_type": "markdown",
   "metadata": {},
   "source": [
    "**N. of frames from hop length and y**\n",
    "\n",
    "If you divide your y_shape length by the hop_length - you get the number of the frames. \n",
    "\n",
    "- y.shape/hop_length"
   ]
  },
  {
   "cell_type": "markdown",
   "metadata": {},
   "source": [
    "**Regarding warning message :**\n",
    "\n",
    "There is nothing to fix: this is operating as intended.\n",
    "\n",
    "Again, this is not an error, it is a warning. Your code will work just fine, it just will fall back on the (slower) audioread decoder. This is unavoidable for now, since libsndfile still does not support mp3.\n",
    "\n",
    "If you're really concerned about speed, you could transcode your mp3s into a more permissive format (eg ogg vorbis"
   ]
  },
  {
   "cell_type": "code",
   "execution_count": null,
   "metadata": {},
   "outputs": [],
   "source": [
    "'''\n",
    "chroma_stft([y, sr, S, norm, n_fft, …])            Compute a chromagram from a waveform or power spectrogram.\n",
    "\n",
    "chroma_cqt([y, sr, C, hop_length, fmin, …])        Constant-Q chromagram\n",
    "\n",
    "chroma_cens([y, sr, C, hop_length, fmin, …])       Computes the chroma variant “Chroma Energy Normalized” (CENS)\n",
    "\n",
    "melspectrogram([y, sr, S, n_fft, …])               Compute a mel-scaled spectrogram.\n",
    "\n",
    "mfcc([y, sr, S, n_mfcc, dct_type, norm, lifter])   Mel-frequency cepstral coefficients (MFCCs)\n",
    "\n",
    "rms([y, S, frame_length, hop_length, …])           Compute root-mean-square (RMS) value for each frame, either from the audio samples y or from a spectrogram S.\n",
    "\n",
    "spectral_centroid([y, sr, S, n_fft, …])            Compute the spectral centroid.\n",
    "\n",
    "spectral_bandwidth([y, sr, S, n_fft, …])           Compute p’th-order spectral bandwidth.\n",
    "\n",
    "spectral_contrast([y, sr, S, n_fft, …])            Compute spectral contrast\n",
    "\n",
    "spectral_flatness([y, S, n_fft, hop_length, …])    Compute spectral flatness\n",
    "\n",
    "spectral_rolloff([y, sr, S, n_fft, …])             Compute roll-off frequency.\n",
    "\n",
    "poly_features([y, sr, S, n_fft, hop_length, …])    Get coefficients of fitting an nth-order polynomial to the columns of a spectrogram.\n",
    "\n",
    "tonnetz([y, sr, chroma])                           Computes the tonal centroid features (tonnetz)\n",
    "\n",
    "zero_crossing_rate(y[, frame_length, …])           Compute the zero-crossing rate of an audio time series.\n",
    "'''"
   ]
  }
 ],
 "metadata": {
  "kernelspec": {
   "display_name": "Python 3",
   "language": "python",
   "name": "python3"
  },
  "language_info": {
   "codemirror_mode": {
    "name": "ipython",
    "version": 3
   },
   "file_extension": ".py",
   "mimetype": "text/x-python",
   "name": "python",
   "nbconvert_exporter": "python",
   "pygments_lexer": "ipython3",
   "version": "3.7.7"
  },
  "varInspector": {
   "cols": {
    "lenName": 16,
    "lenType": 16,
    "lenVar": 40
   },
   "kernels_config": {
    "python": {
     "delete_cmd_postfix": "",
     "delete_cmd_prefix": "del ",
     "library": "var_list.py",
     "varRefreshCmd": "print(var_dic_list())"
    },
    "r": {
     "delete_cmd_postfix": ") ",
     "delete_cmd_prefix": "rm(",
     "library": "var_list.r",
     "varRefreshCmd": "cat(var_dic_list()) "
    }
   },
   "types_to_exclude": [
    "module",
    "function",
    "builtin_function_or_method",
    "instance",
    "_Feature"
   ],
   "window_display": false
  }
 },
 "nbformat": 4,
 "nbformat_minor": 4
}
