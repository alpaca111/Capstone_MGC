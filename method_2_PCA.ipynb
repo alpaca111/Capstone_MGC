{
 "cells": [
  {
   "cell_type": "code",
   "execution_count": 132,
   "metadata": {},
   "outputs": [],
   "source": [
    "import os\n",
    "import pandas as pd\n",
    "import matplotlib.pyplot as plt\n",
    "import seaborn as sns\n",
    "import librosa\n",
    "import librosa.display   #for loading and visualizing audio files\n",
    "import IPython.display as ipd   #to play audio\n",
    "\n",
    "plt.style.use('ggplot')\n",
    "\n",
    "%config InlineBackend.figure_format = 'retina'\n",
    "%matplotlib inline\n",
    "import time \n",
    "import pickle"
   ]
  },
  {
   "cell_type": "markdown",
   "metadata": {},
   "source": [
    "# PCA"
   ]
  },
  {
   "cell_type": "code",
   "execution_count": 25,
   "metadata": {},
   "outputs": [],
   "source": [
    "from sklearn.decomposition import PCA"
   ]
  },
  {
   "cell_type": "markdown",
   "metadata": {},
   "source": [
    "Create function:\n",
    "1. Which takes the numpy arrays containing y for each track_id. \n",
    "2. calculate DB for each track_id\n",
    "3. ravel each DB into a numpy array\n",
    "4. Once collected all, PCA into certain number of components.\n",
    "5. Collect PCA components in dataframe and model on this"
   ]
  },
  {
   "cell_type": "code",
   "execution_count": null,
   "metadata": {},
   "outputs": [],
   "source": [
    "df_PCA = pd.DataFrame(pca.transform(demo_noage), columns=[f'PC_{i+1}' for i in range(pca.n_components_)])\n",
    "demo_pcs"
   ]
  },
  {
   "cell_type": "code",
   "execution_count": 89,
   "metadata": {},
   "outputs": [],
   "source": [
    "a_array = open('/Volumes/Extreme SSD/CAPSTONE_DATA/saved/ATS_0_50/050993.npy', \"rb\")\n",
    "ATS_050993 = np.load(a_array)"
   ]
  },
  {
   "cell_type": "code",
   "execution_count": 90,
   "metadata": {},
   "outputs": [
    {
     "data": {
      "text/plain": [
       "(661248,)"
      ]
     },
     "execution_count": 90,
     "metadata": {},
     "output_type": "execute_result"
    }
   ],
   "source": [
    "ATS_050993.shape"
   ]
  },
  {
   "cell_type": "code",
   "execution_count": 91,
   "metadata": {},
   "outputs": [],
   "source": [
    "DB = librosa.amplitude_to_db(np.abs(librosa.stft(y = ATS_050993)), ref=np.max) #extracting DB\n",
    "DB_ravel = DB.ravel()"
   ]
  },
  {
   "cell_type": "code",
   "execution_count": 94,
   "metadata": {},
   "outputs": [
    {
     "data": {
      "text/plain": [
       "(1324300,)"
      ]
     },
     "execution_count": 94,
     "metadata": {},
     "output_type": "execute_result"
    }
   ],
   "source": [
    "DB_ravel.shape"
   ]
  },
  {
   "cell_type": "code",
   "execution_count": 1,
   "metadata": {},
   "outputs": [],
   "source": [
    "ATS_0_50_fp = '/Volumes/Extreme SSD/CAPSTONE_DATA/saved/ATS_0_50'\n",
    "ATS_0_50 = os.listdir(ATS_0_50_fp)\n",
    "ATS_0_50"
   ]
  },
  {
   "cell_type": "code",
   "execution_count": 149,
   "metadata": {},
   "outputs": [
    {
     "name": "stdout",
     "output_type": "stream",
     "text": [
      "(1324300,)\n",
      "__________\n",
      "(2, 1324300)\n",
      "__________\n",
      "(3, 1324300)\n",
      "__________\n",
      "(4, 1324300)\n",
      "__________\n",
      "(5, 1324300)\n",
      "__________\n",
      "(6, 1324300)\n",
      "__________\n",
      "(7, 1324300)\n",
      "__________\n",
      "(8, 1324300)\n",
      "__________\n",
      "(9, 1324300)\n",
      "__________\n",
      "(10, 1324300)\n",
      "__________\n"
     ]
    }
   ],
   "source": [
    "track_id_list = []\n",
    "stacked_array_list = []\n",
    "\n",
    "DB_stacked = np.zeros(1324300)\n",
    "\n",
    "for i, val in enumerate(ATS_0_50[0:10]):\n",
    "    a_array = open('/Volumes/Extreme SSD/CAPSTONE_DATA/saved/ATS_0_50/{}'.format(val), \"rb\")\n",
    "    ATS = np.load(a_array)\n",
    "    ATS.resize((661500,),refcheck=False) #resizing ATS to be 661500\n",
    "    DB = librosa.amplitude_to_db(np.abs(librosa.stft(y=ATS)), ref=np.max) #extracting DB\n",
    "    DB_ravel = DB.ravel() #flattening DB\n",
    "\n",
    "    track_id_list.append(val.split('.')[0])\n",
    "    if i == 0:\n",
    "        DB_stacked = DB_ravel\n",
    "    else:\n",
    "        DB_stacked = np.vstack((DB_stacked, DB_ravel))\n",
    "        \n",
    "    print(DB_stacked.shape)\n",
    "    print(\"__________\")\n",
    "    \n",
    "#track_id_list\n",
    "np.save('/Volumes/Extreme SSD/CAPSTONE_DATA/saved/PCA/DB_stacked_0_50.npy', DB_stacked)"
   ]
  },
  {
   "cell_type": "code",
   "execution_count": 246,
   "metadata": {},
   "outputs": [],
   "source": [
    "DB_fp = open('/Volumes/Extreme SSD/CAPSTONE_DATA/saved/PCA/DB_stacked_0_50.npy', \"rb\")\n",
    "DB_stacked_0_50 = np.load(DB_fp)"
   ]
  },
  {
   "cell_type": "code",
   "execution_count": 250,
   "metadata": {},
   "outputs": [
    {
     "data": {
      "text/plain": [
       "array([-80.      , -70.33023 , -62.184227, ..., -80.      , -80.      ,\n",
       "       -80.      ], dtype=float32)"
      ]
     },
     "execution_count": 250,
     "metadata": {},
     "output_type": "execute_result"
    }
   ],
   "source": [
    "DB_stacked_0_50"
   ]
  },
  {
   "cell_type": "markdown",
   "metadata": {},
   "source": [
    "Use cleaned dataframe from method 1 to only stack non-duplicated track_id's and corresponding ATS. Also avoiding tracks that have been tagged with erroneous genres. \n",
    "\n",
    "Use df_classifier_0_100_spark.csv to reference extraction"
   ]
  },
  {
   "cell_type": "code",
   "execution_count": 4,
   "metadata": {},
   "outputs": [],
   "source": [
    "df_classifier1_0_100 = pd.read_csv('/Volumes/Extreme SSD/CAPSTONE_DATA/saved/final_dfs/df_classifier1_0_100_trim.csv',dtype = {'track_id':str, 'folder':str}, index_col=False) #loading csv\n",
    "df_classifier1_0_100.drop(axis = 1, columns=['Unnamed: 0','level_0','index'],inplace =True)"
   ]
  },
  {
   "cell_type": "code",
   "execution_count": 199,
   "metadata": {},
   "outputs": [
    {
     "data": {
      "text/plain": [
       "array(['000', '001', '002', '003', '004', '005', '006', '007', '008',\n",
       "       '009', '010', '011', '012', '013', '014', '015', '016', '017',\n",
       "       '018', '019', '020', '021', '022', '023', '024', '025', '026',\n",
       "       '027', '028', '029', '030', '031', '032', '033', '034', '035',\n",
       "       '036', '037', '038', '039', '040', '041', '042', '043', '044',\n",
       "       '045', '046', '047', '048', '049', '050'], dtype=object)"
      ]
     },
     "execution_count": 199,
     "metadata": {},
     "output_type": "execute_result"
    }
   ],
   "source": [
    "df_classifier1_0_100.folder.unique()[0:51]"
   ]
  },
  {
   "cell_type": "code",
   "execution_count": 200,
   "metadata": {},
   "outputs": [],
   "source": [
    "df_ref = df_classifier1_0_100[['track_id','folder','genres_top','genres','genres_all']]"
   ]
  },
  {
   "cell_type": "code",
   "execution_count": 12,
   "metadata": {},
   "outputs": [],
   "source": [
    "condition_0_50 = df_classifier1_0_100.folder.isin(df_classifier1_0_100.folder.unique()[0:51])"
   ]
  },
  {
   "cell_type": "code",
   "execution_count": 19,
   "metadata": {},
   "outputs": [
    {
     "data": {
      "text/plain": [
       "Rock            4483\n",
       "Electronic      4343\n",
       "Experimental    1448\n",
       "Hip-Hop         1373\n",
       "Folk             923\n",
       "Pop              725\n",
       "Classical        505\n",
       "Instrumental     363\n",
       "Jazz             343\n",
       "Soul-RnB         113\n",
       "Country          108\n",
       "Blues             55\n",
       "Name: genres_top, dtype: int64"
      ]
     },
     "execution_count": 19,
     "metadata": {},
     "output_type": "execute_result"
    }
   ],
   "source": [
    "df_classifier1_0_100.genres_top.value_counts()"
   ]
  },
  {
   "cell_type": "code",
   "execution_count": 34,
   "metadata": {},
   "outputs": [
    {
     "data": {
      "text/plain": [
       "1320"
      ]
     },
     "execution_count": 34,
     "metadata": {},
     "output_type": "execute_result"
    }
   ],
   "source": [
    "115*11 + 55 "
   ]
  },
  {
   "cell_type": "code",
   "execution_count": 16,
   "metadata": {},
   "outputs": [
    {
     "data": {
      "text/plain": [
       "Rock            2268\n",
       "Electronic      1933\n",
       "Experimental     800\n",
       "Hip-Hop          543\n",
       "Folk             469\n",
       "Pop              354\n",
       "Classical        259\n",
       "Jazz             200\n",
       "Instrumental     141\n",
       "Country           81\n",
       "Soul-RnB          68\n",
       "Blues             48\n",
       "Name: genres_top, dtype: int64"
      ]
     },
     "execution_count": 16,
     "metadata": {},
     "output_type": "execute_result"
    }
   ],
   "source": [
    "df_classifier1_0_100[condition_0_50].genres_top.value_counts()"
   ]
  },
  {
   "cell_type": "markdown",
   "metadata": {},
   "source": [
    "Expect shape of ( < 1500, 1324300) from final DB_stacked_0_50"
   ]
  },
  {
   "cell_type": "markdown",
   "metadata": {},
   "source": [
    "As stacking ATS numpyarrays will require a lot of RAM cannot stack all tracks and PCA on this need to select a partition of the data. Cannot randomly select otherwise will have major class imbalance with an already low amount of rows per genre (since only a partition).\n",
    "\n",
    "Only extracting genres up until number of tracks with a certain genre reaches minimum quota. Continues collecting other track_ids with other genres until quota reached for given genre and so on. "
   ]
  },
  {
   "cell_type": "markdown",
   "metadata": {},
   "source": [
    "***EXTRACTING*** \n",
    "\n",
    "Getting DB stacked numpy array for track_ids in folders 0 - 50 and saving to hard drive (*Do not run twice*)"
   ]
  },
  {
   "cell_type": "code",
   "execution_count": 172,
   "metadata": {},
   "outputs": [],
   "source": [
    "def check_genre(genre, ID):\n",
    "    return df_ref[condition]['genres_top'].values[0] == genre\n",
    "ID = '000002'\n",
    "check_genre('Hip-Hop',ID)"
   ]
  },
  {
   "cell_type": "code",
   "execution_count": 2,
   "metadata": {},
   "outputs": [],
   "source": [
    "ATS_0_50_fp = '/Volumes/Extreme SSD/CAPSTONE_DATA/saved/ATS_0_50'\n",
    "ATS_0_50 = os.listdir(ATS_0_50_fp)\n",
    "\n",
    "track_id_list = []\n",
    "track_id_notadded = []\n",
    "\n",
    "DB_stacked = np.zeros(1324300)\n",
    "count = 0\n",
    "genre_list = ['Rock', 'Electronic', 'Experimental', 'Hip-Hop', 'Folk', 'Pop', 'Classical', 'Jazz', 'Instrumental', \n",
    "              'Country', 'Soul-RnB', 'Blues']\n",
    "# ______ \n",
    "rock = 0\n",
    "elec = 0\n",
    "exp = 0\n",
    "HH = 0\n",
    "folk = 0\n",
    "pop = 0\n",
    "classical = 0\n",
    "jazz = 0\n",
    "instr = 0\n",
    "country = 0\n",
    "soul = 0\n",
    "blues =0 \n",
    "# ______\n",
    "\n",
    "for i, val in enumerate(ATS_0_50):\n",
    "    a_array = open('/Volumes/Extreme SSD/CAPSTONE_DATA/saved/ATS_0_50/{}'.format(val), \"rb\")\n",
    "    ATS = np.load(a_array)\n",
    "    ATS.resize((661500,),refcheck=False)     #resizing ATS to be 661500\n",
    "    DB = librosa.amplitude_to_db(np.abs(librosa.stft(y = ATS)), ref=np.max) #extracting DB\n",
    "    DB_ravel = DB.ravel()     #flattening DB\n",
    "    ID = str(val.split('.')[0])\n",
    "    target = 115\n",
    "    if ID in df_ref.track_id.values:\n",
    "        condition = df_ref.track_id == ID\n",
    "        if i == 0:\n",
    "            DB_stacked = DB_ravel\n",
    "            track_id_list.append(val.split('.')[0])            \n",
    "        elif check_genre('Rock',ID) & (rock < target):\n",
    "            rock = rock + 1\n",
    "            track_id_list.append(val.split('.')[0])\n",
    "            DB_stacked = np.vstack((DB_stacked, DB_ravel))\n",
    "            #print('Rock :', df_ref[condition].genres_top.values[0])\n",
    "        elif check_genre('Electronic',ID) & (elec < target):\n",
    "            elec += 1\n",
    "            track_id_list.append(val.split('.')[0])\n",
    "            DB_stacked = np.vstack((DB_stacked, DB_ravel))\n",
    "            #print('Electronic :', df_ref[condition].genres_top.values[0])\n",
    "        elif check_genre('Experimental',ID) & (exp < target):\n",
    "            exp += 1\n",
    "            track_id_list.append(val.split('.')[0])\n",
    "            DB_stacked = np.vstack((DB_stacked, DB_ravel))\n",
    "            #print('Experimental :', df_ref[condition].genres_top.values[0])\n",
    "        elif check_genre('Hip-Hop',ID) & (HH < target):\n",
    "            HH += 1\n",
    "            track_id_list.append(val.split('.')[0])\n",
    "            DB_stacked = np.vstack((DB_stacked, DB_ravel))\n",
    "            #print('Hip-Hop :', df_ref[condition].genres_top.values[0])\n",
    "        elif check_genre('Folk',ID) & (folk < target):\n",
    "            folk += 1\n",
    "            track_id_list.append(val.split('.')[0])\n",
    "            DB_stacked = np.vstack((DB_stacked, DB_ravel))   \n",
    "            #print('Folk :', df_ref[condition].genres_top.values[0])\n",
    "        elif check_genre('Pop',ID) & (pop < target):\n",
    "            pop += 1\n",
    "            track_id_list.append(val.split('.')[0])\n",
    "            DB_stacked = np.vstack((DB_stacked, DB_ravel))\n",
    "            #print('Pop :', df_ref[condition].genres_top.values[0])\n",
    "        elif check_genre('Classical',ID) & (classical < target):\n",
    "            classical += 1\n",
    "            track_id_list.append(val.split('.')[0])\n",
    "            DB_stacked = np.vstack((DB_stacked, DB_ravel))\n",
    "            #print('Classical :', df_ref[condition].genres_top.values[0])\n",
    "        elif check_genre('Jazz',ID) & (jazz < target):\n",
    "            jazz += 1\n",
    "            track_id_list.append(val.split('.')[0])\n",
    "            DB_stacked = np.vstack((DB_stacked, DB_ravel))\n",
    "            #print('Jazz :', df_ref[condition].genres_top.values[0])\n",
    "        elif check_genre('Instrumental',ID) & (instr < target):\n",
    "            instr += 1\n",
    "            track_id_list.append(val.split('.')[0])\n",
    "            DB_stacked = np.vstack((DB_stacked, DB_ravel))\n",
    "            #print('Instrumental :', df_ref[condition].genres_top.values[0])\n",
    "        elif check_genre('Country',ID) & (country < target):\n",
    "            country += 1\n",
    "            track_id_list.append(val.split('.')[0])\n",
    "            DB_stacked = np.vstack((DB_stacked, DB_ravel))\n",
    "            #print('Country :', df_ref[condition].genres_top.values[0])\n",
    "        elif check_genre('Soul-RnB',ID) & (soul < target):\n",
    "            soul += 1\n",
    "            track_id_list.append(val.split('.')[0])\n",
    "            DB_stacked = np.vstack((DB_stacked, DB_ravel)) \n",
    "            #print('Soul-RnB :', df_ref[condition].genres_top.values[0])\n",
    "        elif check_genre('Blues',ID) & (blues < target):\n",
    "            blues += 1\n",
    "            track_id_list.append(val.split('.')[0])\n",
    "            DB_stacked = np.vstack((DB_stacked, DB_ravel))\n",
    "            #print('Blues :', df_ref[condition].genres_top.values[0])\n",
    "        else:\n",
    "            print(\"NONE :\",df_ref[condition].genres_top.values[0])\n",
    "            track_id_notadded.append(ID)\n",
    "        print('track_id :', ID)\n",
    "    else:\n",
    "        pass\n",
    "    count = count + 1\n",
    "    print(i)\n",
    "    if count == 100:\n",
    "        np.save('/Volumes/Extreme SSD/CAPSTONE_DATA/saved/PCA/DB_stacked_0_50.npy', DB_stacked) \n",
    "        count = 0\n",
    "np.save('/Volumes/Extreme SSD/CAPSTONE_DATA/saved/PCA/DB_stacked_0_50.npy', DB_stacked)\n",
    "\n",
    "track_id_fp = open('/Volumes/Extreme SSD/CAPSTONE_DATA/saved/PCA/track_id_list.pkl', \"wb\")\n",
    "pickle.dump(track_id_list, track_id_fp)\n",
    "track_id_fp.close()\n",
    "#track_id_list.insert(0,'000139')"
   ]
  },
  {
   "cell_type": "code",
   "execution_count": 244,
   "metadata": {},
   "outputs": [],
   "source": [
    "#condition = df_ref.track_id == ID\n",
    "def get_genre(ID):\n",
    "    condition = df_ref.track_id == ID\n",
    "    return df_ref[condition]['genres_top'].values[0]"
   ]
  },
  {
   "cell_type": "code",
   "execution_count": 250,
   "metadata": {},
   "outputs": [],
   "source": [
    "genre_list = []\n",
    "for ID in track_id_list:\n",
    "    genre_list.append(get_genre(ID))"
   ]
  },
  {
   "cell_type": "markdown",
   "metadata": {},
   "source": [
    "### Saving track_id and genre list"
   ]
  },
  {
   "cell_type": "code",
   "execution_count": 277,
   "metadata": {},
   "outputs": [],
   "source": [
    "'''\n",
    "track_id_fp = open('/Volumes/Extreme SSD/CAPSTONE_DATA/saved/PCA/track_id_list.pkl', \"wb\")\n",
    "pickle.dump(track_id_list, track_id_fp)\n",
    "track_id_fp.close()\n",
    "\n",
    "genre_list_fp = open('/Volumes/Extreme SSD/CAPSTONE_DATA/saved/PCA/genre_list.pkl', \"wb\")\n",
    "pickle.dump(genre_list, genre_list_fp)\n",
    "genre_list_fp.close()''';"
   ]
  },
  {
   "cell_type": "markdown",
   "metadata": {},
   "source": [
    "### Loading track_id, genre lists and DB_stacked numpy array"
   ]
  },
  {
   "cell_type": "code",
   "execution_count": 2,
   "metadata": {},
   "outputs": [],
   "source": [
    "track_id_fp = open('/Volumes/Extreme SSD/CAPSTONE_DATA/saved/PCA/track_id_list.pkl', \"rb\")\n",
    "track_id_list = pickle.load(track_id_fp)\n",
    "\n",
    "genre_list_fp = open('/Volumes/Extreme SSD/CAPSTONE_DATA/saved/PCA/genre_list.pkl', \"rb\")\n",
    "genre_list = pickle.load(genre_list_fp)\n",
    "\n",
    "DB_stack_fp = open('/Volumes/Extreme SSD/CAPSTONE_DATA/saved/PCA/DB_stacked_0_50.npy', \"rb\")\n",
    "DB_stacked = np.load(DB_stack_fp)"
   ]
  },
  {
   "cell_type": "markdown",
   "metadata": {},
   "source": [
    "Create DB_stacked dataframe from DB numpy array :"
   ]
  },
  {
   "cell_type": "code",
   "execution_count": 3,
   "metadata": {},
   "outputs": [],
   "source": [
    "df_DB = pd.DataFrame(data = DB_stacked)"
   ]
  },
  {
   "cell_type": "code",
   "execution_count": 269,
   "metadata": {},
   "outputs": [],
   "source": [
    "#df_DB.insert(0, 'track_id', track_id_list)\n",
    "#df_DB.insert(1, 'genre_top', genre_list)\n",
    "#df_DB.head()\n",
    "#df_DB_raw = df_DB.drop(columns = ['track_id','genre_top'])"
   ]
  },
  {
   "cell_type": "markdown",
   "metadata": {},
   "source": [
    "Applying PCA "
   ]
  },
  {
   "cell_type": "code",
   "execution_count": 5,
   "metadata": {},
   "outputs": [
    {
     "data": {
      "text/plain": [
       "PCA(n_components=1000)"
      ]
     },
     "execution_count": 5,
     "metadata": {},
     "output_type": "execute_result"
    }
   ],
   "source": [
    "from sklearn.decomposition import PCA\n",
    "\n",
    "pca = PCA(n_components=1000)\n",
    "pca.fit(df_DB)"
   ]
  },
  {
   "cell_type": "code",
   "execution_count": 6,
   "metadata": {},
   "outputs": [],
   "source": [
    "df_DB_pca = pd.DataFrame(pca.transform(df_DB), columns=[f'PC_{i+1}' for i in range(pca.n_components_)])"
   ]
  },
  {
   "cell_type": "code",
   "execution_count": 7,
   "metadata": {},
   "outputs": [
    {
     "data": {
      "text/html": [
       "<div>\n",
       "<style scoped>\n",
       "    .dataframe tbody tr th:only-of-type {\n",
       "        vertical-align: middle;\n",
       "    }\n",
       "\n",
       "    .dataframe tbody tr th {\n",
       "        vertical-align: top;\n",
       "    }\n",
       "\n",
       "    .dataframe thead th {\n",
       "        text-align: right;\n",
       "    }\n",
       "</style>\n",
       "<table border=\"1\" class=\"dataframe\">\n",
       "  <thead>\n",
       "    <tr style=\"text-align: right;\">\n",
       "      <th></th>\n",
       "      <th>PC_1</th>\n",
       "      <th>PC_2</th>\n",
       "      <th>PC_3</th>\n",
       "      <th>PC_4</th>\n",
       "      <th>PC_5</th>\n",
       "      <th>PC_6</th>\n",
       "      <th>PC_7</th>\n",
       "      <th>PC_8</th>\n",
       "      <th>PC_9</th>\n",
       "      <th>PC_10</th>\n",
       "      <th>...</th>\n",
       "      <th>PC_991</th>\n",
       "      <th>PC_992</th>\n",
       "      <th>PC_993</th>\n",
       "      <th>PC_994</th>\n",
       "      <th>PC_995</th>\n",
       "      <th>PC_996</th>\n",
       "      <th>PC_997</th>\n",
       "      <th>PC_998</th>\n",
       "      <th>PC_999</th>\n",
       "      <th>PC_1000</th>\n",
       "    </tr>\n",
       "  </thead>\n",
       "  <tbody>\n",
       "    <tr>\n",
       "      <th>0</th>\n",
       "      <td>10078.040039</td>\n",
       "      <td>306.597321</td>\n",
       "      <td>-3034.967773</td>\n",
       "      <td>806.417053</td>\n",
       "      <td>13.430355</td>\n",
       "      <td>808.089050</td>\n",
       "      <td>-414.565552</td>\n",
       "      <td>-127.220505</td>\n",
       "      <td>-1343.913452</td>\n",
       "      <td>69.132774</td>\n",
       "      <td>...</td>\n",
       "      <td>1.852397</td>\n",
       "      <td>8.823978</td>\n",
       "      <td>48.225185</td>\n",
       "      <td>-32.082897</td>\n",
       "      <td>140.478104</td>\n",
       "      <td>56.710449</td>\n",
       "      <td>19.255308</td>\n",
       "      <td>-46.259407</td>\n",
       "      <td>49.222427</td>\n",
       "      <td>-43.808361</td>\n",
       "    </tr>\n",
       "    <tr>\n",
       "      <th>1</th>\n",
       "      <td>-6403.381348</td>\n",
       "      <td>-4613.407715</td>\n",
       "      <td>-3237.626221</td>\n",
       "      <td>-107.894600</td>\n",
       "      <td>991.465210</td>\n",
       "      <td>-990.849182</td>\n",
       "      <td>1800.114258</td>\n",
       "      <td>1102.489380</td>\n",
       "      <td>-1269.643188</td>\n",
       "      <td>209.162308</td>\n",
       "      <td>...</td>\n",
       "      <td>-67.657242</td>\n",
       "      <td>-487.661316</td>\n",
       "      <td>34.751194</td>\n",
       "      <td>-235.312714</td>\n",
       "      <td>254.310287</td>\n",
       "      <td>-162.107468</td>\n",
       "      <td>-192.955566</td>\n",
       "      <td>185.439606</td>\n",
       "      <td>-161.606705</td>\n",
       "      <td>146.136658</td>\n",
       "    </tr>\n",
       "    <tr>\n",
       "      <th>2</th>\n",
       "      <td>-7731.916992</td>\n",
       "      <td>-1018.027344</td>\n",
       "      <td>-8754.224609</td>\n",
       "      <td>816.567688</td>\n",
       "      <td>1607.343018</td>\n",
       "      <td>1082.048706</td>\n",
       "      <td>-1097.193604</td>\n",
       "      <td>-1831.873169</td>\n",
       "      <td>-1789.753784</td>\n",
       "      <td>-168.600204</td>\n",
       "      <td>...</td>\n",
       "      <td>-108.332344</td>\n",
       "      <td>-0.715170</td>\n",
       "      <td>121.278961</td>\n",
       "      <td>-204.109909</td>\n",
       "      <td>48.674000</td>\n",
       "      <td>44.526928</td>\n",
       "      <td>-120.469177</td>\n",
       "      <td>-57.844471</td>\n",
       "      <td>-84.828087</td>\n",
       "      <td>220.603638</td>\n",
       "    </tr>\n",
       "    <tr>\n",
       "      <th>3</th>\n",
       "      <td>7504.065430</td>\n",
       "      <td>3512.296387</td>\n",
       "      <td>-259.968964</td>\n",
       "      <td>-768.068542</td>\n",
       "      <td>1485.589355</td>\n",
       "      <td>-488.783478</td>\n",
       "      <td>2508.389404</td>\n",
       "      <td>-1033.721069</td>\n",
       "      <td>-1597.895874</td>\n",
       "      <td>174.100449</td>\n",
       "      <td>...</td>\n",
       "      <td>-578.482300</td>\n",
       "      <td>118.543877</td>\n",
       "      <td>361.266205</td>\n",
       "      <td>-42.397144</td>\n",
       "      <td>45.313126</td>\n",
       "      <td>-492.610931</td>\n",
       "      <td>-186.842224</td>\n",
       "      <td>648.584900</td>\n",
       "      <td>-391.695404</td>\n",
       "      <td>-392.097137</td>\n",
       "    </tr>\n",
       "    <tr>\n",
       "      <th>4</th>\n",
       "      <td>9588.051758</td>\n",
       "      <td>4207.545898</td>\n",
       "      <td>256.408966</td>\n",
       "      <td>2822.379639</td>\n",
       "      <td>-101.647354</td>\n",
       "      <td>-1707.434937</td>\n",
       "      <td>-1134.129028</td>\n",
       "      <td>-469.481415</td>\n",
       "      <td>1970.599731</td>\n",
       "      <td>-470.494781</td>\n",
       "      <td>...</td>\n",
       "      <td>106.800850</td>\n",
       "      <td>-7.794832</td>\n",
       "      <td>117.390495</td>\n",
       "      <td>168.896835</td>\n",
       "      <td>149.696198</td>\n",
       "      <td>67.292862</td>\n",
       "      <td>7.928970</td>\n",
       "      <td>-62.200504</td>\n",
       "      <td>-218.686752</td>\n",
       "      <td>-209.174301</td>\n",
       "    </tr>\n",
       "  </tbody>\n",
       "</table>\n",
       "<p>5 rows × 1000 columns</p>\n",
       "</div>"
      ],
      "text/plain": [
       "           PC_1         PC_2         PC_3         PC_4         PC_5  \\\n",
       "0  10078.040039   306.597321 -3034.967773   806.417053    13.430355   \n",
       "1  -6403.381348 -4613.407715 -3237.626221  -107.894600   991.465210   \n",
       "2  -7731.916992 -1018.027344 -8754.224609   816.567688  1607.343018   \n",
       "3   7504.065430  3512.296387  -259.968964  -768.068542  1485.589355   \n",
       "4   9588.051758  4207.545898   256.408966  2822.379639  -101.647354   \n",
       "\n",
       "          PC_6         PC_7         PC_8         PC_9       PC_10  ...  \\\n",
       "0   808.089050  -414.565552  -127.220505 -1343.913452   69.132774  ...   \n",
       "1  -990.849182  1800.114258  1102.489380 -1269.643188  209.162308  ...   \n",
       "2  1082.048706 -1097.193604 -1831.873169 -1789.753784 -168.600204  ...   \n",
       "3  -488.783478  2508.389404 -1033.721069 -1597.895874  174.100449  ...   \n",
       "4 -1707.434937 -1134.129028  -469.481415  1970.599731 -470.494781  ...   \n",
       "\n",
       "       PC_991      PC_992      PC_993      PC_994      PC_995      PC_996  \\\n",
       "0    1.852397    8.823978   48.225185  -32.082897  140.478104   56.710449   \n",
       "1  -67.657242 -487.661316   34.751194 -235.312714  254.310287 -162.107468   \n",
       "2 -108.332344   -0.715170  121.278961 -204.109909   48.674000   44.526928   \n",
       "3 -578.482300  118.543877  361.266205  -42.397144   45.313126 -492.610931   \n",
       "4  106.800850   -7.794832  117.390495  168.896835  149.696198   67.292862   \n",
       "\n",
       "       PC_997      PC_998      PC_999     PC_1000  \n",
       "0   19.255308  -46.259407   49.222427  -43.808361  \n",
       "1 -192.955566  185.439606 -161.606705  146.136658  \n",
       "2 -120.469177  -57.844471  -84.828087  220.603638  \n",
       "3 -186.842224  648.584900 -391.695404 -392.097137  \n",
       "4    7.928970  -62.200504 -218.686752 -209.174301  \n",
       "\n",
       "[5 rows x 1000 columns]"
      ]
     },
     "execution_count": 7,
     "metadata": {},
     "output_type": "execute_result"
    }
   ],
   "source": [
    "df_DB_pca.head()"
   ]
  },
  {
   "cell_type": "markdown",
   "metadata": {},
   "source": [
    "Saving / Loading DB PCA dataframe :"
   ]
  },
  {
   "cell_type": "code",
   "execution_count": 30,
   "metadata": {},
   "outputs": [],
   "source": [
    "'''df_DB_pca_fp = open('/Volumes/Extreme SSD/CAPSTONE_DATA/saved/PCA/df_DB_pca.csv', \"wb\")\n",
    "pickle.dump(df_DB_pca, df_DB_pca_fp )\n",
    "df_DB_pca_fp.close()''';\n",
    "\n",
    "df_DB_pca_fp = open('/Volumes/Extreme SSD/CAPSTONE_DATA/saved/PCA/df_DB_pca.csv', \"rb\")\n",
    "df_DB_pca = pickle.load(df_DB_pca_fp)"
   ]
  },
  {
   "cell_type": "markdown",
   "metadata": {},
   "source": [
    "By including all PCA components (1000) we can explain 97% of the variance"
   ]
  },
  {
   "cell_type": "code",
   "execution_count": 12,
   "metadata": {
    "scrolled": true
   },
   "outputs": [
    {
     "data": {
      "text/plain": [
       "0.97029936"
      ]
     },
     "execution_count": 12,
     "metadata": {},
     "output_type": "execute_result"
    }
   ],
   "source": [
    "pca.explained_variance_ratio_.cumsum()[-1]"
   ]
  },
  {
   "cell_type": "code",
   "execution_count": 25,
   "metadata": {},
   "outputs": [
    {
     "data": {
      "image/png": "[encoded data removed]",
      "text/plain": [
       "<Figure size 720x432 with 1 Axes>"
      ]
     },
     "metadata": {
      "image/png": {
       "height": 423,
       "width": 711
      },
      "needs_background": "light"
     },
     "output_type": "display_data"
    }
   ],
   "source": [
    "fig, ax = plt.subplots(nrows=1,ncols=1,figsize=(10,6))\n",
    "sns.lineplot(x = range(1, pca.n_components_+1),y = pca.explained_variance_ratio_, ax=ax)\n",
    "sns.lineplot(x = range(1, pca.n_components_+1),y = pca.explained_variance_ratio_.cumsum(), ax=ax)\n",
    "\n",
    "#ax.set_xticklabels(labels = x, rotation = 30)  \n",
    "ax.legend(labels=[\"EVR\",\"EVR cumulative sum\"])\n",
    "ax.set_ylabel(\"Variance Ratio\")\n",
    "ax.set_xlabel(\"No. PCA components\")\n",
    "ax.set_title(\"EVR with cumuluative sum vs PCA components\")\n",
    "fig.tight_layout()\n",
    "plt.show()"
   ]
  },
  {
   "cell_type": "code",
   "execution_count": 32,
   "metadata": {},
   "outputs": [],
   "source": [
    "from scikitplot.decomposition import plot_pca_2d_projection"
   ]
  },
  {
   "cell_type": "code",
   "execution_count": null,
   "metadata": {},
   "outputs": [],
   "source": [
    "plot_pca_2d_projection(pca, df_DB, df_DB.index, \n",
    "                       biplot=True,  \n",
    "                       feature_labels=demo_noage.columns.to_list(), \n",
    "                       figsize=(12, 6))\n",
    "plt.legend(loc=[1.1, 0], fontsize=8, ncol=3)\n",
    "plt.show()"
   ]
  }
 ],
 "metadata": {
  "kernelspec": {
   "display_name": "Python 3",
   "language": "python",
   "name": "python3"
  },
  "language_info": {
   "codemirror_mode": {
    "name": "ipython",
    "version": 3
   },
   "file_extension": ".py",
   "mimetype": "text/x-python",
   "name": "python",
   "nbconvert_exporter": "python",
   "pygments_lexer": "ipython3",
   "version": "3.7.7"
  },
  "varInspector": {
   "cols": {
    "lenName": 16,
    "lenType": 16,
    "lenVar": 40
   },
   "kernels_config": {
    "python": {
     "delete_cmd_postfix": "",
     "delete_cmd_prefix": "del ",
     "library": "var_list.py",
     "varRefreshCmd": "print(var_dic_list())"
    },
    "r": {
     "delete_cmd_postfix": ") ",
     "delete_cmd_prefix": "rm(",
     "library": "var_list.r",
     "varRefreshCmd": "cat(var_dic_list()) "
    }
   },
   "types_to_exclude": [
    "module",
    "function",
    "builtin_function_or_method",
    "instance",
    "_Feature"
   ],
   "window_display": false
  }
 },
 "nbformat": 4,
 "nbformat_minor": 4
}
