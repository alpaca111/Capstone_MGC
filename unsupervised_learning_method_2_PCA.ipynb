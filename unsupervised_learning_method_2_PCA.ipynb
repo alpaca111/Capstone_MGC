{
 "cells": [
  {
   "cell_type": "code",
   "execution_count": 132,
   "metadata": {},
   "outputs": [],
   "source": [
    "import os\n",
    "import pandas as pd\n",
    "import matplotlib.pyplot as plt\n",
    "import seaborn as sns\n",
    "import librosa\n",
    "import librosa.display   #for loading and visualizing audio files\n",
    "import IPython.display as ipd   #to play audio\n",
    "\n",
    "plt.style.use('ggplot')\n",
    "\n",
    "%config InlineBackend.figure_format = 'retina'\n",
    "%matplotlib inline\n",
    "import time \n",
    "import pickle"
   ]
  },
  {
   "cell_type": "markdown",
   "metadata": {},
   "source": [
    "## Unsupervised Learning Clustering"
   ]
  },
  {
   "cell_type": "code",
   "execution_count": 1,
   "metadata": {},
   "outputs": [],
   "source": [
    "from sklearn.cluster import KMeans, AgglomerativeClustering, DBSCAN\n",
    "from sklearn.metrics import silhouette_samples, silhouette_score\n",
    "from sklearn import metrics\n",
    "from sklearn.preprocessing import StandardScaler\n",
    "from matplotlib.colors import ListedColormap\n",
    "import matplotlib.cm as cm\n",
    "from tqdm import tqdm\n",
    "from sklearn.preprocessing import MinMaxScaler"
   ]
  },
  {
   "cell_type": "code",
   "execution_count": 40,
   "metadata": {},
   "outputs": [],
   "source": [
    "track_id_fp = open('/Volumes/Extreme SSD/CAPSTONE_DATA/saved/PCA/track_id_list.pkl', \"rb\")\n",
    "track_id_list = pickle.load(track_id_fp)\n",
    "\n",
    "genre_list_fp = open('/Volumes/Extreme SSD/CAPSTONE_DATA/saved/PCA/genre_list.pkl', \"rb\")\n",
    "genre_list = pickle.load(genre_list_fp)\n",
    "\n",
    "df_DB_pca_fp = open('/Volumes/Extreme SSD/CAPSTONE_DATA/saved/PCA/df_DB_pca.csv', \"rb\")\n",
    "df_DB_pca = pickle.load(df_DB_pca_fp)\n",
    "\n",
    "df_DB_pca.insert(0, 'track_id', track_id_list)\n",
    "df_DB_pca.insert(1, 'genres_top', genre_list)"
   ]
  },
  {
   "cell_type": "code",
   "execution_count": 53,
   "metadata": {},
   "outputs": [
    {
     "data": {
      "text/plain": [
       "Folk            116\n",
       "Hip-Hop         115\n",
       "Rock            115\n",
       "Jazz            115\n",
       "Experimental    115\n",
       "Instrumental    115\n",
       "Pop             115\n",
       "Classical       115\n",
       "Electronic      115\n",
       "Country          81\n",
       "Soul-RnB         68\n",
       "Blues            48\n",
       "Name: genres_top, dtype: int64"
      ]
     },
     "execution_count": 53,
     "metadata": {},
     "output_type": "execute_result"
    }
   ],
   "source": [
    "df_DB_pca.genres_top.value_counts()"
   ]
  },
  {
   "cell_type": "code",
   "execution_count": 56,
   "metadata": {},
   "outputs": [],
   "source": [
    "subset1 = df_DB_pca[df_DB_pca.genres_top.isin(['Hip-Hop','Classical','Rock'])]\n",
    "subset2 = df_DB_pca[df_DB_pca.genres_top.isin(['Pop','Jazz','Folk'])]\n",
    "subset3 = df_DB_pca[df_DB_pca.genres_top.isin(['Electronic','Instrumental','Folk'])]"
   ]
  },
  {
   "cell_type": "markdown",
   "metadata": {},
   "source": [
    "Hip-Hop , Classical, Rock"
   ]
  }
 ],
 "metadata": {
  "kernelspec": {
   "display_name": "Python 3",
   "language": "python",
   "name": "python3"
  },
  "language_info": {
   "codemirror_mode": {
    "name": "ipython",
    "version": 3
   },
   "file_extension": ".py",
   "mimetype": "text/x-python",
   "name": "python",
   "nbconvert_exporter": "python",
   "pygments_lexer": "ipython3",
   "version": "3.7.7"
  },
  "varInspector": {
   "cols": {
    "lenName": 16,
    "lenType": 16,
    "lenVar": 40
   },
   "kernels_config": {
    "python": {
     "delete_cmd_postfix": "",
     "delete_cmd_prefix": "del ",
     "library": "var_list.py",
     "varRefreshCmd": "print(var_dic_list())"
    },
    "r": {
     "delete_cmd_postfix": ") ",
     "delete_cmd_prefix": "rm(",
     "library": "var_list.r",
     "varRefreshCmd": "cat(var_dic_list()) "
    }
   },
   "types_to_exclude": [
    "module",
    "function",
    "builtin_function_or_method",
    "instance",
    "_Feature"
   ],
   "window_display": false
  }
 },
 "nbformat": 4,
 "nbformat_minor": 4
}
